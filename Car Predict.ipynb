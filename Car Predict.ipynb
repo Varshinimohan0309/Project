{
 "cells": [
  {
   "cell_type": "markdown",
   "id": "98ab3abd",
   "metadata": {},
   "source": [
    "# CAR PRICE PREDICTION USING MACHINE LEARNING"
   ]
  },
  {
   "cell_type": "markdown",
   "id": "c2207bc5",
   "metadata": {},
   "source": [
    "# Import Library"
   ]
  },
  {
   "cell_type": "code",
   "execution_count": 1,
   "id": "8eefe24a",
   "metadata": {},
   "outputs": [],
   "source": [
    "#Import Basic Library\n",
    "import pandas as pd\n",
    "import numpy as np\n",
    "import matplotlib.pyplot as plt\n",
    "import seaborn as sns\n",
    "%matplotlib inline"
   ]
  },
  {
   "cell_type": "code",
   "execution_count": 2,
   "id": "e96dc5f6",
   "metadata": {},
   "outputs": [],
   "source": [
    "#Read Dataset\n",
    "df=pd.read_csv('car data.csv')"
   ]
  },
  {
   "cell_type": "code",
   "execution_count": 3,
   "id": "556c981d",
   "metadata": {},
   "outputs": [
    {
     "data": {
      "text/html": [
       "<div>\n",
       "<style scoped>\n",
       "    .dataframe tbody tr th:only-of-type {\n",
       "        vertical-align: middle;\n",
       "    }\n",
       "\n",
       "    .dataframe tbody tr th {\n",
       "        vertical-align: top;\n",
       "    }\n",
       "\n",
       "    .dataframe thead th {\n",
       "        text-align: right;\n",
       "    }\n",
       "</style>\n",
       "<table border=\"1\" class=\"dataframe\">\n",
       "  <thead>\n",
       "    <tr style=\"text-align: right;\">\n",
       "      <th></th>\n",
       "      <th>Car_Name</th>\n",
       "      <th>Year</th>\n",
       "      <th>Selling_Price</th>\n",
       "      <th>Present_Price</th>\n",
       "      <th>Driven_kms</th>\n",
       "      <th>Fuel_Type</th>\n",
       "      <th>Selling_type</th>\n",
       "      <th>Transmission</th>\n",
       "      <th>Owner</th>\n",
       "    </tr>\n",
       "  </thead>\n",
       "  <tbody>\n",
       "    <tr>\n",
       "      <th>0</th>\n",
       "      <td>ritz</td>\n",
       "      <td>2014</td>\n",
       "      <td>3.35</td>\n",
       "      <td>5.59</td>\n",
       "      <td>27000</td>\n",
       "      <td>Petrol</td>\n",
       "      <td>Dealer</td>\n",
       "      <td>Manual</td>\n",
       "      <td>0</td>\n",
       "    </tr>\n",
       "    <tr>\n",
       "      <th>1</th>\n",
       "      <td>sx4</td>\n",
       "      <td>2013</td>\n",
       "      <td>4.75</td>\n",
       "      <td>9.54</td>\n",
       "      <td>43000</td>\n",
       "      <td>Diesel</td>\n",
       "      <td>Dealer</td>\n",
       "      <td>Manual</td>\n",
       "      <td>0</td>\n",
       "    </tr>\n",
       "    <tr>\n",
       "      <th>2</th>\n",
       "      <td>ciaz</td>\n",
       "      <td>2017</td>\n",
       "      <td>7.25</td>\n",
       "      <td>9.85</td>\n",
       "      <td>6900</td>\n",
       "      <td>Petrol</td>\n",
       "      <td>Dealer</td>\n",
       "      <td>Manual</td>\n",
       "      <td>0</td>\n",
       "    </tr>\n",
       "    <tr>\n",
       "      <th>3</th>\n",
       "      <td>wagon r</td>\n",
       "      <td>2011</td>\n",
       "      <td>2.85</td>\n",
       "      <td>4.15</td>\n",
       "      <td>5200</td>\n",
       "      <td>Petrol</td>\n",
       "      <td>Dealer</td>\n",
       "      <td>Manual</td>\n",
       "      <td>0</td>\n",
       "    </tr>\n",
       "    <tr>\n",
       "      <th>4</th>\n",
       "      <td>swift</td>\n",
       "      <td>2014</td>\n",
       "      <td>4.60</td>\n",
       "      <td>6.87</td>\n",
       "      <td>42450</td>\n",
       "      <td>Diesel</td>\n",
       "      <td>Dealer</td>\n",
       "      <td>Manual</td>\n",
       "      <td>0</td>\n",
       "    </tr>\n",
       "  </tbody>\n",
       "</table>\n",
       "</div>"
      ],
      "text/plain": [
       "  Car_Name  Year  Selling_Price  Present_Price  Driven_kms Fuel_Type  \\\n",
       "0     ritz  2014           3.35           5.59       27000    Petrol   \n",
       "1      sx4  2013           4.75           9.54       43000    Diesel   \n",
       "2     ciaz  2017           7.25           9.85        6900    Petrol   \n",
       "3  wagon r  2011           2.85           4.15        5200    Petrol   \n",
       "4    swift  2014           4.60           6.87       42450    Diesel   \n",
       "\n",
       "  Selling_type Transmission  Owner  \n",
       "0       Dealer       Manual      0  \n",
       "1       Dealer       Manual      0  \n",
       "2       Dealer       Manual      0  \n",
       "3       Dealer       Manual      0  \n",
       "4       Dealer       Manual      0  "
      ]
     },
     "execution_count": 3,
     "metadata": {},
     "output_type": "execute_result"
    }
   ],
   "source": [
    "df.head()"
   ]
  },
  {
   "cell_type": "code",
   "execution_count": 4,
   "id": "e1b0a320",
   "metadata": {},
   "outputs": [
    {
     "data": {
      "text/plain": [
       "(301, 9)"
      ]
     },
     "execution_count": 4,
     "metadata": {},
     "output_type": "execute_result"
    }
   ],
   "source": [
    "df.shape"
   ]
  },
  {
   "cell_type": "code",
   "execution_count": 5,
   "id": "c95cea8c",
   "metadata": {},
   "outputs": [
    {
     "data": {
      "text/plain": [
       "Index(['Car_Name', 'Year', 'Selling_Price', 'Present_Price', 'Driven_kms',\n",
       "       'Fuel_Type', 'Selling_type', 'Transmission', 'Owner'],\n",
       "      dtype='object')"
      ]
     },
     "execution_count": 5,
     "metadata": {},
     "output_type": "execute_result"
    }
   ],
   "source": [
    "column=df.columns\n",
    "column"
   ]
  },
  {
   "cell_type": "code",
   "execution_count": 6,
   "id": "ca7feb01",
   "metadata": {},
   "outputs": [
    {
     "data": {
      "text/plain": [
       "array([0, 1, 3], dtype=int64)"
      ]
     },
     "execution_count": 6,
     "metadata": {},
     "output_type": "execute_result"
    }
   ],
   "source": [
    "df['Owner'].unique()"
   ]
  },
  {
   "cell_type": "code",
   "execution_count": 7,
   "id": "635a591f",
   "metadata": {},
   "outputs": [
    {
     "data": {
      "text/plain": [
       "0    290\n",
       "1     10\n",
       "3      1\n",
       "Name: Owner, dtype: int64"
      ]
     },
     "execution_count": 7,
     "metadata": {},
     "output_type": "execute_result"
    }
   ],
   "source": [
    "df['Owner'].value_counts()"
   ]
  },
  {
   "cell_type": "code",
   "execution_count": 8,
   "id": "20b125ef",
   "metadata": {},
   "outputs": [
    {
     "data": {
      "text/html": [
       "<div>\n",
       "<style scoped>\n",
       "    .dataframe tbody tr th:only-of-type {\n",
       "        vertical-align: middle;\n",
       "    }\n",
       "\n",
       "    .dataframe tbody tr th {\n",
       "        vertical-align: top;\n",
       "    }\n",
       "\n",
       "    .dataframe thead th {\n",
       "        text-align: right;\n",
       "    }\n",
       "</style>\n",
       "<table border=\"1\" class=\"dataframe\">\n",
       "  <thead>\n",
       "    <tr style=\"text-align: right;\">\n",
       "      <th></th>\n",
       "      <th>Year</th>\n",
       "      <th>Selling_Price</th>\n",
       "      <th>Present_Price</th>\n",
       "      <th>Driven_kms</th>\n",
       "      <th>Owner</th>\n",
       "    </tr>\n",
       "  </thead>\n",
       "  <tbody>\n",
       "    <tr>\n",
       "      <th>count</th>\n",
       "      <td>301.000000</td>\n",
       "      <td>301.000000</td>\n",
       "      <td>301.000000</td>\n",
       "      <td>301.000000</td>\n",
       "      <td>301.000000</td>\n",
       "    </tr>\n",
       "    <tr>\n",
       "      <th>mean</th>\n",
       "      <td>2013.627907</td>\n",
       "      <td>4.661296</td>\n",
       "      <td>7.628472</td>\n",
       "      <td>36947.205980</td>\n",
       "      <td>0.043189</td>\n",
       "    </tr>\n",
       "    <tr>\n",
       "      <th>std</th>\n",
       "      <td>2.891554</td>\n",
       "      <td>5.082812</td>\n",
       "      <td>8.642584</td>\n",
       "      <td>38886.883882</td>\n",
       "      <td>0.247915</td>\n",
       "    </tr>\n",
       "    <tr>\n",
       "      <th>min</th>\n",
       "      <td>2003.000000</td>\n",
       "      <td>0.100000</td>\n",
       "      <td>0.320000</td>\n",
       "      <td>500.000000</td>\n",
       "      <td>0.000000</td>\n",
       "    </tr>\n",
       "    <tr>\n",
       "      <th>25%</th>\n",
       "      <td>2012.000000</td>\n",
       "      <td>0.900000</td>\n",
       "      <td>1.200000</td>\n",
       "      <td>15000.000000</td>\n",
       "      <td>0.000000</td>\n",
       "    </tr>\n",
       "    <tr>\n",
       "      <th>50%</th>\n",
       "      <td>2014.000000</td>\n",
       "      <td>3.600000</td>\n",
       "      <td>6.400000</td>\n",
       "      <td>32000.000000</td>\n",
       "      <td>0.000000</td>\n",
       "    </tr>\n",
       "    <tr>\n",
       "      <th>75%</th>\n",
       "      <td>2016.000000</td>\n",
       "      <td>6.000000</td>\n",
       "      <td>9.900000</td>\n",
       "      <td>48767.000000</td>\n",
       "      <td>0.000000</td>\n",
       "    </tr>\n",
       "    <tr>\n",
       "      <th>max</th>\n",
       "      <td>2018.000000</td>\n",
       "      <td>35.000000</td>\n",
       "      <td>92.600000</td>\n",
       "      <td>500000.000000</td>\n",
       "      <td>3.000000</td>\n",
       "    </tr>\n",
       "  </tbody>\n",
       "</table>\n",
       "</div>"
      ],
      "text/plain": [
       "              Year  Selling_Price  Present_Price     Driven_kms       Owner\n",
       "count   301.000000     301.000000     301.000000     301.000000  301.000000\n",
       "mean   2013.627907       4.661296       7.628472   36947.205980    0.043189\n",
       "std       2.891554       5.082812       8.642584   38886.883882    0.247915\n",
       "min    2003.000000       0.100000       0.320000     500.000000    0.000000\n",
       "25%    2012.000000       0.900000       1.200000   15000.000000    0.000000\n",
       "50%    2014.000000       3.600000       6.400000   32000.000000    0.000000\n",
       "75%    2016.000000       6.000000       9.900000   48767.000000    0.000000\n",
       "max    2018.000000      35.000000      92.600000  500000.000000    3.000000"
      ]
     },
     "execution_count": 8,
     "metadata": {},
     "output_type": "execute_result"
    }
   ],
   "source": [
    "#Stats about data\n",
    "df.describe()\n"
   ]
  },
  {
   "cell_type": "code",
   "execution_count": 9,
   "id": "3a9694e9",
   "metadata": {},
   "outputs": [
    {
     "name": "stdout",
     "output_type": "stream",
     "text": [
      "<class 'pandas.core.frame.DataFrame'>\n",
      "RangeIndex: 301 entries, 0 to 300\n",
      "Data columns (total 9 columns):\n",
      " #   Column         Non-Null Count  Dtype  \n",
      "---  ------         --------------  -----  \n",
      " 0   Car_Name       301 non-null    object \n",
      " 1   Year           301 non-null    int64  \n",
      " 2   Selling_Price  301 non-null    float64\n",
      " 3   Present_Price  301 non-null    float64\n",
      " 4   Driven_kms     301 non-null    int64  \n",
      " 5   Fuel_Type      301 non-null    object \n",
      " 6   Selling_type   301 non-null    object \n",
      " 7   Transmission   301 non-null    object \n",
      " 8   Owner          301 non-null    int64  \n",
      "dtypes: float64(2), int64(3), object(4)\n",
      "memory usage: 21.3+ KB\n"
     ]
    }
   ],
   "source": [
    "df.info()"
   ]
  },
  {
   "cell_type": "markdown",
   "id": "58f945ef",
   "metadata": {},
   "source": [
    "# Preprocessing the dataset "
   ]
  },
  {
   "cell_type": "code",
   "execution_count": 10,
   "id": "bb9799d4",
   "metadata": {},
   "outputs": [
    {
     "data": {
      "text/plain": [
       "Car_Name         0\n",
       "Year             0\n",
       "Selling_Price    0\n",
       "Present_Price    0\n",
       "Driven_kms       0\n",
       "Fuel_Type        0\n",
       "Selling_type     0\n",
       "Transmission     0\n",
       "Owner            0\n",
       "dtype: int64"
      ]
     },
     "execution_count": 10,
     "metadata": {},
     "output_type": "execute_result"
    }
   ],
   "source": [
    "# Check null value\n",
    "df.isnull().sum()"
   ]
  },
  {
   "cell_type": "code",
   "execution_count": 11,
   "id": "f81e7788",
   "metadata": {},
   "outputs": [
    {
     "name": "stdout",
     "output_type": "stream",
     "text": [
      "Petrol    239\n",
      "Diesel     60\n",
      "CNG         2\n",
      "Name: Fuel_Type, dtype: int64\n",
      "Dealer        195\n",
      "Individual    106\n",
      "Name: Selling_type, dtype: int64\n",
      "Manual       261\n",
      "Automatic     40\n",
      "Name: Transmission, dtype: int64\n"
     ]
    }
   ],
   "source": [
    "print(df.Fuel_Type.value_counts())\n",
    "print(df.Selling_type.value_counts())\n",
    "print(df.Transmission.value_counts())\n"
   ]
  },
  {
   "cell_type": "markdown",
   "id": "27398578",
   "metadata": {},
   "source": [
    "# Label Encoding"
   ]
  },
  {
   "cell_type": "code",
   "execution_count": 12,
   "id": "1613dbce",
   "metadata": {},
   "outputs": [],
   "source": [
    "#encode Fuel_type column\n",
    "df.replace({'Fuel_Type':{'Petrol':0,'Diesel':1,'CNG':2}},inplace=True)\n",
    "#encode Selling_type column\n",
    "df.replace({'Selling_type':{'Dealer':0,'Individual':1}},inplace=True)\n",
    "#encode Transmission column\n",
    "df.replace({'Transmission':{'Manual':0,'Automatic':1}},inplace=True)"
   ]
  },
  {
   "cell_type": "code",
   "execution_count": 13,
   "id": "20d6170a",
   "metadata": {},
   "outputs": [
    {
     "data": {
      "text/html": [
       "<div>\n",
       "<style scoped>\n",
       "    .dataframe tbody tr th:only-of-type {\n",
       "        vertical-align: middle;\n",
       "    }\n",
       "\n",
       "    .dataframe tbody tr th {\n",
       "        vertical-align: top;\n",
       "    }\n",
       "\n",
       "    .dataframe thead th {\n",
       "        text-align: right;\n",
       "    }\n",
       "</style>\n",
       "<table border=\"1\" class=\"dataframe\">\n",
       "  <thead>\n",
       "    <tr style=\"text-align: right;\">\n",
       "      <th></th>\n",
       "      <th>Car_Name</th>\n",
       "      <th>Year</th>\n",
       "      <th>Selling_Price</th>\n",
       "      <th>Present_Price</th>\n",
       "      <th>Driven_kms</th>\n",
       "      <th>Fuel_Type</th>\n",
       "      <th>Selling_type</th>\n",
       "      <th>Transmission</th>\n",
       "      <th>Owner</th>\n",
       "    </tr>\n",
       "  </thead>\n",
       "  <tbody>\n",
       "    <tr>\n",
       "      <th>0</th>\n",
       "      <td>ritz</td>\n",
       "      <td>2014</td>\n",
       "      <td>3.35</td>\n",
       "      <td>5.59</td>\n",
       "      <td>27000</td>\n",
       "      <td>0</td>\n",
       "      <td>0</td>\n",
       "      <td>0</td>\n",
       "      <td>0</td>\n",
       "    </tr>\n",
       "    <tr>\n",
       "      <th>1</th>\n",
       "      <td>sx4</td>\n",
       "      <td>2013</td>\n",
       "      <td>4.75</td>\n",
       "      <td>9.54</td>\n",
       "      <td>43000</td>\n",
       "      <td>1</td>\n",
       "      <td>0</td>\n",
       "      <td>0</td>\n",
       "      <td>0</td>\n",
       "    </tr>\n",
       "    <tr>\n",
       "      <th>2</th>\n",
       "      <td>ciaz</td>\n",
       "      <td>2017</td>\n",
       "      <td>7.25</td>\n",
       "      <td>9.85</td>\n",
       "      <td>6900</td>\n",
       "      <td>0</td>\n",
       "      <td>0</td>\n",
       "      <td>0</td>\n",
       "      <td>0</td>\n",
       "    </tr>\n",
       "    <tr>\n",
       "      <th>3</th>\n",
       "      <td>wagon r</td>\n",
       "      <td>2011</td>\n",
       "      <td>2.85</td>\n",
       "      <td>4.15</td>\n",
       "      <td>5200</td>\n",
       "      <td>0</td>\n",
       "      <td>0</td>\n",
       "      <td>0</td>\n",
       "      <td>0</td>\n",
       "    </tr>\n",
       "    <tr>\n",
       "      <th>4</th>\n",
       "      <td>swift</td>\n",
       "      <td>2014</td>\n",
       "      <td>4.60</td>\n",
       "      <td>6.87</td>\n",
       "      <td>42450</td>\n",
       "      <td>1</td>\n",
       "      <td>0</td>\n",
       "      <td>0</td>\n",
       "      <td>0</td>\n",
       "    </tr>\n",
       "    <tr>\n",
       "      <th>5</th>\n",
       "      <td>vitara brezza</td>\n",
       "      <td>2018</td>\n",
       "      <td>9.25</td>\n",
       "      <td>9.83</td>\n",
       "      <td>2071</td>\n",
       "      <td>1</td>\n",
       "      <td>0</td>\n",
       "      <td>0</td>\n",
       "      <td>0</td>\n",
       "    </tr>\n",
       "    <tr>\n",
       "      <th>6</th>\n",
       "      <td>ciaz</td>\n",
       "      <td>2015</td>\n",
       "      <td>6.75</td>\n",
       "      <td>8.12</td>\n",
       "      <td>18796</td>\n",
       "      <td>0</td>\n",
       "      <td>0</td>\n",
       "      <td>0</td>\n",
       "      <td>0</td>\n",
       "    </tr>\n",
       "    <tr>\n",
       "      <th>7</th>\n",
       "      <td>s cross</td>\n",
       "      <td>2015</td>\n",
       "      <td>6.50</td>\n",
       "      <td>8.61</td>\n",
       "      <td>33429</td>\n",
       "      <td>1</td>\n",
       "      <td>0</td>\n",
       "      <td>0</td>\n",
       "      <td>0</td>\n",
       "    </tr>\n",
       "    <tr>\n",
       "      <th>8</th>\n",
       "      <td>ciaz</td>\n",
       "      <td>2016</td>\n",
       "      <td>8.75</td>\n",
       "      <td>8.89</td>\n",
       "      <td>20273</td>\n",
       "      <td>1</td>\n",
       "      <td>0</td>\n",
       "      <td>0</td>\n",
       "      <td>0</td>\n",
       "    </tr>\n",
       "    <tr>\n",
       "      <th>9</th>\n",
       "      <td>ciaz</td>\n",
       "      <td>2015</td>\n",
       "      <td>7.45</td>\n",
       "      <td>8.92</td>\n",
       "      <td>42367</td>\n",
       "      <td>1</td>\n",
       "      <td>0</td>\n",
       "      <td>0</td>\n",
       "      <td>0</td>\n",
       "    </tr>\n",
       "    <tr>\n",
       "      <th>10</th>\n",
       "      <td>alto 800</td>\n",
       "      <td>2017</td>\n",
       "      <td>2.85</td>\n",
       "      <td>3.60</td>\n",
       "      <td>2135</td>\n",
       "      <td>0</td>\n",
       "      <td>0</td>\n",
       "      <td>0</td>\n",
       "      <td>0</td>\n",
       "    </tr>\n",
       "    <tr>\n",
       "      <th>11</th>\n",
       "      <td>ciaz</td>\n",
       "      <td>2015</td>\n",
       "      <td>6.85</td>\n",
       "      <td>10.38</td>\n",
       "      <td>51000</td>\n",
       "      <td>1</td>\n",
       "      <td>0</td>\n",
       "      <td>0</td>\n",
       "      <td>0</td>\n",
       "    </tr>\n",
       "    <tr>\n",
       "      <th>12</th>\n",
       "      <td>ciaz</td>\n",
       "      <td>2015</td>\n",
       "      <td>7.50</td>\n",
       "      <td>9.94</td>\n",
       "      <td>15000</td>\n",
       "      <td>0</td>\n",
       "      <td>0</td>\n",
       "      <td>1</td>\n",
       "      <td>0</td>\n",
       "    </tr>\n",
       "    <tr>\n",
       "      <th>13</th>\n",
       "      <td>ertiga</td>\n",
       "      <td>2015</td>\n",
       "      <td>6.10</td>\n",
       "      <td>7.71</td>\n",
       "      <td>26000</td>\n",
       "      <td>0</td>\n",
       "      <td>0</td>\n",
       "      <td>0</td>\n",
       "      <td>0</td>\n",
       "    </tr>\n",
       "    <tr>\n",
       "      <th>14</th>\n",
       "      <td>dzire</td>\n",
       "      <td>2009</td>\n",
       "      <td>2.25</td>\n",
       "      <td>7.21</td>\n",
       "      <td>77427</td>\n",
       "      <td>0</td>\n",
       "      <td>0</td>\n",
       "      <td>0</td>\n",
       "      <td>0</td>\n",
       "    </tr>\n",
       "    <tr>\n",
       "      <th>15</th>\n",
       "      <td>ertiga</td>\n",
       "      <td>2016</td>\n",
       "      <td>7.75</td>\n",
       "      <td>10.79</td>\n",
       "      <td>43000</td>\n",
       "      <td>1</td>\n",
       "      <td>0</td>\n",
       "      <td>0</td>\n",
       "      <td>0</td>\n",
       "    </tr>\n",
       "    <tr>\n",
       "      <th>16</th>\n",
       "      <td>ertiga</td>\n",
       "      <td>2015</td>\n",
       "      <td>7.25</td>\n",
       "      <td>10.79</td>\n",
       "      <td>41678</td>\n",
       "      <td>1</td>\n",
       "      <td>0</td>\n",
       "      <td>0</td>\n",
       "      <td>0</td>\n",
       "    </tr>\n",
       "    <tr>\n",
       "      <th>17</th>\n",
       "      <td>ertiga</td>\n",
       "      <td>2016</td>\n",
       "      <td>7.75</td>\n",
       "      <td>10.79</td>\n",
       "      <td>43000</td>\n",
       "      <td>1</td>\n",
       "      <td>0</td>\n",
       "      <td>0</td>\n",
       "      <td>0</td>\n",
       "    </tr>\n",
       "    <tr>\n",
       "      <th>18</th>\n",
       "      <td>wagon r</td>\n",
       "      <td>2015</td>\n",
       "      <td>3.25</td>\n",
       "      <td>5.09</td>\n",
       "      <td>35500</td>\n",
       "      <td>2</td>\n",
       "      <td>0</td>\n",
       "      <td>0</td>\n",
       "      <td>0</td>\n",
       "    </tr>\n",
       "    <tr>\n",
       "      <th>19</th>\n",
       "      <td>sx4</td>\n",
       "      <td>2010</td>\n",
       "      <td>2.65</td>\n",
       "      <td>7.98</td>\n",
       "      <td>41442</td>\n",
       "      <td>0</td>\n",
       "      <td>0</td>\n",
       "      <td>0</td>\n",
       "      <td>0</td>\n",
       "    </tr>\n",
       "  </tbody>\n",
       "</table>\n",
       "</div>"
      ],
      "text/plain": [
       "         Car_Name  Year  Selling_Price  Present_Price  Driven_kms  Fuel_Type  \\\n",
       "0            ritz  2014           3.35           5.59       27000          0   \n",
       "1             sx4  2013           4.75           9.54       43000          1   \n",
       "2            ciaz  2017           7.25           9.85        6900          0   \n",
       "3         wagon r  2011           2.85           4.15        5200          0   \n",
       "4           swift  2014           4.60           6.87       42450          1   \n",
       "5   vitara brezza  2018           9.25           9.83        2071          1   \n",
       "6            ciaz  2015           6.75           8.12       18796          0   \n",
       "7         s cross  2015           6.50           8.61       33429          1   \n",
       "8            ciaz  2016           8.75           8.89       20273          1   \n",
       "9            ciaz  2015           7.45           8.92       42367          1   \n",
       "10       alto 800  2017           2.85           3.60        2135          0   \n",
       "11           ciaz  2015           6.85          10.38       51000          1   \n",
       "12           ciaz  2015           7.50           9.94       15000          0   \n",
       "13         ertiga  2015           6.10           7.71       26000          0   \n",
       "14          dzire  2009           2.25           7.21       77427          0   \n",
       "15         ertiga  2016           7.75          10.79       43000          1   \n",
       "16         ertiga  2015           7.25          10.79       41678          1   \n",
       "17         ertiga  2016           7.75          10.79       43000          1   \n",
       "18        wagon r  2015           3.25           5.09       35500          2   \n",
       "19            sx4  2010           2.65           7.98       41442          0   \n",
       "\n",
       "    Selling_type  Transmission  Owner  \n",
       "0              0             0      0  \n",
       "1              0             0      0  \n",
       "2              0             0      0  \n",
       "3              0             0      0  \n",
       "4              0             0      0  \n",
       "5              0             0      0  \n",
       "6              0             0      0  \n",
       "7              0             0      0  \n",
       "8              0             0      0  \n",
       "9              0             0      0  \n",
       "10             0             0      0  \n",
       "11             0             0      0  \n",
       "12             0             1      0  \n",
       "13             0             0      0  \n",
       "14             0             0      0  \n",
       "15             0             0      0  \n",
       "16             0             0      0  \n",
       "17             0             0      0  \n",
       "18             0             0      0  \n",
       "19             0             0      0  "
      ]
     },
     "execution_count": 13,
     "metadata": {},
     "output_type": "execute_result"
    }
   ],
   "source": [
    "df1=df.head(20)\n",
    "df1"
   ]
  },
  {
   "cell_type": "markdown",
   "id": "e0eb0b3b",
   "metadata": {},
   "source": [
    "# Exploratory Data Analysis"
   ]
  },
  {
   "cell_type": "code",
   "execution_count": 14,
   "id": "0bbfcf05",
   "metadata": {},
   "outputs": [
    {
     "data": {
      "image/png": "[encoded data removed]",
      "text/plain": [
       "<Figure size 432x288 with 1 Axes>"
      ]
     },
     "metadata": {
      "needs_background": "light"
     },
     "output_type": "display_data"
    }
   ],
   "source": [
    "for column in df1.columns:\n",
    "    sns.histplot(df1[column],kde=True)"
   ]
  },
  {
   "cell_type": "code",
   "execution_count": 15,
   "id": "5206e714",
   "metadata": {},
   "outputs": [
    {
     "data": {
      "text/plain": [
       "<AxesSubplot:xlabel='Car_Name', ylabel='Count'>"
      ]
     },
     "execution_count": 15,
     "metadata": {},
     "output_type": "execute_result"
    },
    {
     "data": {
      "image/png": "[encoded data removed]",
      "text/plain": [
       "<Figure size 432x288 with 1 Axes>"
      ]
     },
     "metadata": {
      "needs_background": "light"
     },
     "output_type": "display_data"
    }
   ],
   "source": [
    "sns.histplot(df1['Car_Name'])"
   ]
  },
  {
   "cell_type": "code",
   "execution_count": 16,
   "id": "ff9b4a47",
   "metadata": {},
   "outputs": [
    {
     "data": {
      "text/plain": [
       "<seaborn.axisgrid.PairGrid at 0x20859d2c0d0>"
      ]
     },
     "execution_count": 16,
     "metadata": {},
     "output_type": "execute_result"
    },
    {
     "data": {
      "image/png": "[encoded data removed]",
      "text/plain": [
       "<Figure size 1440x1440 with 72 Axes>"
      ]
     },
     "metadata": {
      "needs_background": "light"
     },
     "output_type": "display_data"
    }
   ],
   "source": [
    "sns.pairplot(df1)"
   ]
  },
  {
   "cell_type": "code",
   "execution_count": 17,
   "id": "0fe2639c",
   "metadata": {},
   "outputs": [
    {
     "data": {
      "text/html": [
       "<div>\n",
       "<style scoped>\n",
       "    .dataframe tbody tr th:only-of-type {\n",
       "        vertical-align: middle;\n",
       "    }\n",
       "\n",
       "    .dataframe tbody tr th {\n",
       "        vertical-align: top;\n",
       "    }\n",
       "\n",
       "    .dataframe thead th {\n",
       "        text-align: right;\n",
       "    }\n",
       "</style>\n",
       "<table border=\"1\" class=\"dataframe\">\n",
       "  <thead>\n",
       "    <tr style=\"text-align: right;\">\n",
       "      <th></th>\n",
       "      <th>Year</th>\n",
       "      <th>Selling_Price</th>\n",
       "      <th>Present_Price</th>\n",
       "      <th>Driven_kms</th>\n",
       "      <th>Fuel_Type</th>\n",
       "      <th>Selling_type</th>\n",
       "      <th>Transmission</th>\n",
       "      <th>Owner</th>\n",
       "    </tr>\n",
       "  </thead>\n",
       "  <tbody>\n",
       "    <tr>\n",
       "      <th>Year</th>\n",
       "      <td>1.000000</td>\n",
       "      <td>0.236141</td>\n",
       "      <td>-0.047192</td>\n",
       "      <td>-0.524342</td>\n",
       "      <td>0.053643</td>\n",
       "      <td>-0.039896</td>\n",
       "      <td>-0.000394</td>\n",
       "      <td>-0.182104</td>\n",
       "    </tr>\n",
       "    <tr>\n",
       "      <th>Selling_Price</th>\n",
       "      <td>0.236141</td>\n",
       "      <td>1.000000</td>\n",
       "      <td>0.878914</td>\n",
       "      <td>0.029187</td>\n",
       "      <td>0.509467</td>\n",
       "      <td>-0.550724</td>\n",
       "      <td>0.367128</td>\n",
       "      <td>-0.088344</td>\n",
       "    </tr>\n",
       "    <tr>\n",
       "      <th>Present_Price</th>\n",
       "      <td>-0.047192</td>\n",
       "      <td>0.878914</td>\n",
       "      <td>1.000000</td>\n",
       "      <td>0.203618</td>\n",
       "      <td>0.440493</td>\n",
       "      <td>-0.512121</td>\n",
       "      <td>0.348776</td>\n",
       "      <td>0.008058</td>\n",
       "    </tr>\n",
       "    <tr>\n",
       "      <th>Driven_kms</th>\n",
       "      <td>-0.524342</td>\n",
       "      <td>0.029187</td>\n",
       "      <td>0.203618</td>\n",
       "      <td>1.000000</td>\n",
       "      <td>0.166801</td>\n",
       "      <td>-0.101419</td>\n",
       "      <td>0.162510</td>\n",
       "      <td>0.089216</td>\n",
       "    </tr>\n",
       "    <tr>\n",
       "      <th>Fuel_Type</th>\n",
       "      <td>0.053643</td>\n",
       "      <td>0.509467</td>\n",
       "      <td>0.440493</td>\n",
       "      <td>0.166801</td>\n",
       "      <td>1.000000</td>\n",
       "      <td>-0.352415</td>\n",
       "      <td>0.080466</td>\n",
       "      <td>-0.055705</td>\n",
       "    </tr>\n",
       "    <tr>\n",
       "      <th>Selling_type</th>\n",
       "      <td>-0.039896</td>\n",
       "      <td>-0.550724</td>\n",
       "      <td>-0.512121</td>\n",
       "      <td>-0.101419</td>\n",
       "      <td>-0.352415</td>\n",
       "      <td>1.000000</td>\n",
       "      <td>-0.063240</td>\n",
       "      <td>0.124269</td>\n",
       "    </tr>\n",
       "    <tr>\n",
       "      <th>Transmission</th>\n",
       "      <td>-0.000394</td>\n",
       "      <td>0.367128</td>\n",
       "      <td>0.348776</td>\n",
       "      <td>0.162510</td>\n",
       "      <td>0.080466</td>\n",
       "      <td>-0.063240</td>\n",
       "      <td>1.000000</td>\n",
       "      <td>0.050316</td>\n",
       "    </tr>\n",
       "    <tr>\n",
       "      <th>Owner</th>\n",
       "      <td>-0.182104</td>\n",
       "      <td>-0.088344</td>\n",
       "      <td>0.008058</td>\n",
       "      <td>0.089216</td>\n",
       "      <td>-0.055705</td>\n",
       "      <td>0.124269</td>\n",
       "      <td>0.050316</td>\n",
       "      <td>1.000000</td>\n",
       "    </tr>\n",
       "  </tbody>\n",
       "</table>\n",
       "</div>"
      ],
      "text/plain": [
       "                   Year  Selling_Price  Present_Price  Driven_kms  Fuel_Type  \\\n",
       "Year           1.000000       0.236141      -0.047192   -0.524342   0.053643   \n",
       "Selling_Price  0.236141       1.000000       0.878914    0.029187   0.509467   \n",
       "Present_Price -0.047192       0.878914       1.000000    0.203618   0.440493   \n",
       "Driven_kms    -0.524342       0.029187       0.203618    1.000000   0.166801   \n",
       "Fuel_Type      0.053643       0.509467       0.440493    0.166801   1.000000   \n",
       "Selling_type  -0.039896      -0.550724      -0.512121   -0.101419  -0.352415   \n",
       "Transmission  -0.000394       0.367128       0.348776    0.162510   0.080466   \n",
       "Owner         -0.182104      -0.088344       0.008058    0.089216  -0.055705   \n",
       "\n",
       "               Selling_type  Transmission     Owner  \n",
       "Year              -0.039896     -0.000394 -0.182104  \n",
       "Selling_Price     -0.550724      0.367128 -0.088344  \n",
       "Present_Price     -0.512121      0.348776  0.008058  \n",
       "Driven_kms        -0.101419      0.162510  0.089216  \n",
       "Fuel_Type         -0.352415      0.080466 -0.055705  \n",
       "Selling_type       1.000000     -0.063240  0.124269  \n",
       "Transmission      -0.063240      1.000000  0.050316  \n",
       "Owner              0.124269      0.050316  1.000000  "
      ]
     },
     "execution_count": 17,
     "metadata": {},
     "output_type": "execute_result"
    }
   ],
   "source": [
    "#Correlation Matrix\n",
    "df.corr()"
   ]
  },
  {
   "cell_type": "code",
   "execution_count": 18,
   "id": "8039b1dc",
   "metadata": {},
   "outputs": [
    {
     "data": {
      "text/plain": [
       "<AxesSubplot:>"
      ]
     },
     "execution_count": 18,
     "metadata": {},
     "output_type": "execute_result"
    },
    {
     "data": {
      "image/png": "[encoded data removed]",
      "text/plain": [
       "<Figure size 432x288 with 2 Axes>"
      ]
     },
     "metadata": {
      "needs_background": "light"
     },
     "output_type": "display_data"
    }
   ],
   "source": [
    "corr=df.corr()\n",
    "sns.heatmap(corr,annot=True)"
   ]
  },
  {
   "cell_type": "code",
   "execution_count": 19,
   "id": "cec77f13",
   "metadata": {},
   "outputs": [
    {
     "name": "stdout",
     "output_type": "stream",
     "text": [
      "     Year  Present_Price  Driven_kms  Fuel_Type  Selling_type  Transmission  \\\n",
      "0    2014           5.59       27000          0             0             0   \n",
      "1    2013           9.54       43000          1             0             0   \n",
      "2    2017           9.85        6900          0             0             0   \n",
      "3    2011           4.15        5200          0             0             0   \n",
      "4    2014           6.87       42450          1             0             0   \n",
      "..    ...            ...         ...        ...           ...           ...   \n",
      "296  2016          11.60       33988          1             0             0   \n",
      "297  2015           5.90       60000          0             0             0   \n",
      "298  2009          11.00       87934          0             0             0   \n",
      "299  2017          12.50        9000          1             0             0   \n",
      "300  2016           5.90        5464          0             0             0   \n",
      "\n",
      "     Owner  \n",
      "0        0  \n",
      "1        0  \n",
      "2        0  \n",
      "3        0  \n",
      "4        0  \n",
      "..     ...  \n",
      "296      0  \n",
      "297      0  \n",
      "298      0  \n",
      "299      0  \n",
      "300      0  \n",
      "\n",
      "[301 rows x 7 columns]\n",
      "0       3.35\n",
      "1       4.75\n",
      "2       7.25\n",
      "3       2.85\n",
      "4       4.60\n",
      "       ...  \n",
      "296     9.50\n",
      "297     4.00\n",
      "298     3.35\n",
      "299    11.50\n",
      "300     5.30\n",
      "Name: Selling_Price, Length: 301, dtype: float64\n"
     ]
    }
   ],
   "source": [
    "#Independent and Dependent Features\n",
    "x=df.drop(columns=['Car_Name','Selling_Price'],axis=1)\n",
    "y=df['Selling_Price']\n",
    "print(x)\n",
    "print(y)"
   ]
  },
  {
   "cell_type": "markdown",
   "id": "5f9b0db0",
   "metadata": {},
   "source": [
    "# Model Training"
   ]
  },
  {
   "cell_type": "code",
   "execution_count": 20,
   "id": "bc4d31b3",
   "metadata": {},
   "outputs": [],
   "source": [
    "from sklearn.model_selection import train_test_split\n",
    "x_train,x_test,y_train,y_test=train_test_split(x,y,test_size=0.20,random_state=2)"
   ]
  },
  {
   "cell_type": "code",
   "execution_count": 27,
   "id": "192c01e3",
   "metadata": {},
   "outputs": [],
   "source": [
    "#Standard Scaler\n",
    "from sklearn.preprocessing import StandardScaler\n",
    "scaler= StandardScaler()\n",
    "x_train=scaler.fit_transform(x_train)\n",
    "x_test=scaler.transform(x_test)\n"
   ]
  },
  {
   "cell_type": "code",
   "execution_count": 28,
   "id": "8c8d62d4",
   "metadata": {},
   "outputs": [],
   "source": [
    "#Linear Regression\n",
    "from sklearn.linear_model import LinearRegression\n",
    "linear= LinearRegression()"
   ]
  },
  {
   "cell_type": "code",
   "execution_count": 29,
   "id": "a874b29e",
   "metadata": {},
   "outputs": [
    {
     "data": {
      "text/html": [
       "<style>#sk-container-id-2 {color: black;background-color: white;}#sk-container-id-2 pre{padding: 0;}#sk-container-id-2 div.sk-toggleable {background-color: white;}#sk-container-id-2 label.sk-toggleable__label {cursor: pointer;display: block;width: 100%;margin-bottom: 0;padding: 0.3em;box-sizing: border-box;text-align: center;}#sk-container-id-2 label.sk-toggleable__label-arrow:before {content: \"▸\";float: left;margin-right: 0.25em;color: #696969;}#sk-container-id-2 label.sk-toggleable__label-arrow:hover:before {color: black;}#sk-container-id-2 div.sk-estimator:hover label.sk-toggleable__label-arrow:before {color: black;}#sk-container-id-2 div.sk-toggleable__content {max-height: 0;max-width: 0;overflow: hidden;text-align: left;background-color: #f0f8ff;}#sk-container-id-2 div.sk-toggleable__content pre {margin: 0.2em;color: black;border-radius: 0.25em;background-color: #f0f8ff;}#sk-container-id-2 input.sk-toggleable__control:checked~div.sk-toggleable__content {max-height: 200px;max-width: 100%;overflow: auto;}#sk-container-id-2 input.sk-toggleable__control:checked~label.sk-toggleable__label-arrow:before {content: \"▾\";}#sk-container-id-2 div.sk-estimator input.sk-toggleable__control:checked~label.sk-toggleable__label {background-color: #d4ebff;}#sk-container-id-2 div.sk-label input.sk-toggleable__control:checked~label.sk-toggleable__label {background-color: #d4ebff;}#sk-container-id-2 input.sk-hidden--visually {border: 0;clip: rect(1px 1px 1px 1px);clip: rect(1px, 1px, 1px, 1px);height: 1px;margin: -1px;overflow: hidden;padding: 0;position: absolute;width: 1px;}#sk-container-id-2 div.sk-estimator {font-family: monospace;background-color: #f0f8ff;border: 1px dotted black;border-radius: 0.25em;box-sizing: border-box;margin-bottom: 0.5em;}#sk-container-id-2 div.sk-estimator:hover {background-color: #d4ebff;}#sk-container-id-2 div.sk-parallel-item::after {content: \"\";width: 100%;border-bottom: 1px solid gray;flex-grow: 1;}#sk-container-id-2 div.sk-label:hover label.sk-toggleable__label {background-color: #d4ebff;}#sk-container-id-2 div.sk-serial::before {content: \"\";position: absolute;border-left: 1px solid gray;box-sizing: border-box;top: 0;bottom: 0;left: 50%;z-index: 0;}#sk-container-id-2 div.sk-serial {display: flex;flex-direction: column;align-items: center;background-color: white;padding-right: 0.2em;padding-left: 0.2em;position: relative;}#sk-container-id-2 div.sk-item {position: relative;z-index: 1;}#sk-container-id-2 div.sk-parallel {display: flex;align-items: stretch;justify-content: center;background-color: white;position: relative;}#sk-container-id-2 div.sk-item::before, #sk-container-id-2 div.sk-parallel-item::before {content: \"\";position: absolute;border-left: 1px solid gray;box-sizing: border-box;top: 0;bottom: 0;left: 50%;z-index: -1;}#sk-container-id-2 div.sk-parallel-item {display: flex;flex-direction: column;z-index: 1;position: relative;background-color: white;}#sk-container-id-2 div.sk-parallel-item:first-child::after {align-self: flex-end;width: 50%;}#sk-container-id-2 div.sk-parallel-item:last-child::after {align-self: flex-start;width: 50%;}#sk-container-id-2 div.sk-parallel-item:only-child::after {width: 0;}#sk-container-id-2 div.sk-dashed-wrapped {border: 1px dashed gray;margin: 0 0.4em 0.5em 0.4em;box-sizing: border-box;padding-bottom: 0.4em;background-color: white;}#sk-container-id-2 div.sk-label label {font-family: monospace;font-weight: bold;display: inline-block;line-height: 1.2em;}#sk-container-id-2 div.sk-label-container {text-align: center;}#sk-container-id-2 div.sk-container {/* jupyter's `normalize.less` sets `[hidden] { display: none; }` but bootstrap.min.css set `[hidden] { display: none !important; }` so we also need the `!important` here to be able to override the default hidden behavior on the sphinx rendered scikit-learn.org. See: https://github.com/scikit-learn/scikit-learn/issues/21755 */display: inline-block !important;position: relative;}#sk-container-id-2 div.sk-text-repr-fallback {display: none;}</style><div id=\"sk-container-id-2\" class=\"sk-top-container\"><div class=\"sk-text-repr-fallback\"><pre>LinearRegression()</pre><b>In a Jupyter environment, please rerun this cell to show the HTML representation or trust the notebook. <br />On GitHub, the HTML representation is unable to render, please try loading this page with nbviewer.org.</b></div><div class=\"sk-container\" hidden><div class=\"sk-item\"><div class=\"sk-estimator sk-toggleable\"><input class=\"sk-toggleable__control sk-hidden--visually\" id=\"sk-estimator-id-2\" type=\"checkbox\" checked><label for=\"sk-estimator-id-2\" class=\"sk-toggleable__label sk-toggleable__label-arrow\">LinearRegression</label><div class=\"sk-toggleable__content\"><pre>LinearRegression()</pre></div></div></div></div></div>"
      ],
      "text/plain": [
       "LinearRegression()"
      ]
     },
     "execution_count": 29,
     "metadata": {},
     "output_type": "execute_result"
    }
   ],
   "source": [
    "linear.fit(x_train,y_train)"
   ]
  },
  {
   "cell_type": "code",
   "execution_count": 36,
   "id": "a64c9002",
   "metadata": {},
   "outputs": [
    {
     "data": {
      "text/plain": [
       "array([ 6.78223922e+00,  1.02930253e+00,  4.32875578e+00,  2.37106608e-02,\n",
       "        3.58559623e+00,  2.79474682e+00,  1.43627962e+00,  4.15322149e-01,\n",
       "        1.61020571e+00,  1.12738674e+00,  4.32057015e+00,  6.17543662e+00,\n",
       "        9.27219542e-01,  7.40544813e-01,  6.15466160e+00,  3.42571326e+00,\n",
       "        2.32755056e+00,  7.49941752e+00,  4.61920772e+00,  4.43333519e+00,\n",
       "        4.46322455e+00,  2.73371085e+00,  4.44317416e+00,  1.71157528e+00,\n",
       "        2.49448164e-01,  3.94178550e+00,  1.37753849e+00,  4.61863581e+00,\n",
       "        1.38480806e+00,  7.35889163e+00,  7.24362925e+00,  6.54453471e+00,\n",
       "        2.28808903e+00,  2.19033057e+01,  2.20155438e+00,  5.64293779e+00,\n",
       "        2.82948125e+00,  7.68488257e+00,  5.67000440e+00,  1.00259798e+01,\n",
       "        1.99586011e+00,  2.37991569e+00,  1.22481756e+00,  2.40079490e+00,\n",
       "        9.94261779e+00,  2.01857868e+00, -6.42686854e-01,  5.43100382e+00,\n",
       "        1.14079609e+01, -3.13059065e-03,  1.09421419e+00,  1.61466187e+00,\n",
       "        5.38596724e+00,  1.36398847e+00,  7.71861543e+00,  1.84419480e+01,\n",
       "        2.49553564e+00,  1.56540161e-01,  1.81812638e+00,  9.31066482e+00,\n",
       "        3.96345334e+00,  7.02549752e+00,  1.69354714e+01,  1.03437132e+01,\n",
       "        3.65235856e+00,  1.43342009e+00,  4.29759759e+00, -4.54287962e-01,\n",
       "        1.64084753e+00,  8.22781208e+00,  1.09307236e+00,  7.45456863e+00,\n",
       "       -1.91144660e+00,  7.72576936e-01,  7.25834575e+00,  8.00715920e+00,\n",
       "        7.45735352e+00, -3.74475796e+00,  3.79329359e+00,  8.22512959e+00,\n",
       "        3.44287045e+00,  2.52338142e+00,  4.18275663e+00, -3.26077492e+00,\n",
       "        5.16681664e+00,  1.87776077e+00,  3.48738727e+00,  7.70521329e+00,\n",
       "       -8.90547170e-02,  1.77718516e+00,  1.53556036e+00,  1.80165503e+00,\n",
       "        3.46252532e+00, -2.65427866e+00,  2.20810526e-01,  6.44250020e+00,\n",
       "        6.90645844e+00,  1.21193102e+00,  1.90557052e+00,  7.74002712e+00,\n",
       "        3.99281222e+00,  6.43297885e-01,  7.97938285e+00,  6.33946941e+00,\n",
       "        1.29953785e+00, -1.98467669e+00,  5.24686029e+00,  6.00136890e+00,\n",
       "        5.14119442e+00,  4.20817880e+00,  8.72536446e-01,  7.44351264e+00,\n",
       "        4.00819401e+00, -1.09202054e+00,  1.09211021e+01,  4.39038058e+00,\n",
       "        2.89914553e+00,  1.85238324e+00,  4.93312989e+00,  4.77641197e+00,\n",
       "        4.22619957e+00,  1.71273406e+01, -1.11736829e+00,  1.18674598e+00,\n",
       "        5.19114935e+00,  2.04304688e+00,  5.95561639e+00,  3.53182289e+00,\n",
       "        4.81358942e+00,  3.40903891e+00,  4.67611635e-01,  4.41504335e+00,\n",
       "        2.01476142e+01,  3.82762813e+00,  4.44626114e+00,  2.11250474e+00,\n",
       "        2.93045054e+00,  1.14593313e-01,  7.55781393e+00, -9.98586324e-01,\n",
       "        2.07336526e+01,  1.72893227e-01,  7.65124439e+00,  1.89648461e+00,\n",
       "        1.52469613e+00,  8.67749960e+00,  2.03592195e+01,  3.05177335e+00,\n",
       "        4.91843586e+00,  5.12748436e+00,  4.41304259e+00,  6.28259601e+00,\n",
       "        6.27161592e+00,  1.57399908e+00,  4.50072238e-01,  7.17436024e+00,\n",
       "        8.27631269e+00,  2.19554364e+00, -2.98651427e+00,  4.27745505e+00,\n",
       "        4.28128427e+00,  5.14154754e+00, -4.16480992e-01,  6.39636726e+00,\n",
       "        4.39640847e+00,  8.16095052e+00,  7.41292269e-01,  1.08462271e+01,\n",
       "        5.63554059e+00, -1.02570902e+00,  6.49776164e+00,  5.07828508e+00,\n",
       "        7.00454293e+00,  4.90339896e+00,  5.80460973e+00,  2.04782490e+00,\n",
       "        2.52846782e+00,  4.89118319e+00,  3.15169832e+00, -1.55795869e+00,\n",
       "        4.16808271e+01,  5.94344007e+00,  5.24692749e+00,  3.26825692e-01,\n",
       "        9.01914947e+00,  6.65872627e+00,  7.17070809e+00,  1.59496193e+00,\n",
       "        7.12329833e+00,  9.17352282e+00,  4.45878659e+00,  3.37999252e+00,\n",
       "        6.44461248e+00,  6.65426540e+00,  1.66385262e+01,  9.46103725e+00,\n",
       "        6.26485104e+00, -2.08779897e-01,  2.56218125e+00,  2.97024293e+00,\n",
       "        5.84545026e+00,  5.17564646e+00,  8.72681697e-01,  8.12699580e+00,\n",
       "        5.75743824e+00,  7.68741174e+00,  2.10434577e+00,  1.68456420e+01,\n",
       "        4.88931943e+00,  1.46779260e+01,  1.05788203e+01,  2.14073985e+00,\n",
       "       -1.27872735e-01,  1.00090480e+01, -3.08359544e+00,  3.50498525e+00,\n",
       "        2.75297577e+00,  3.41954058e+00,  7.48246178e+00,  3.94431025e+00,\n",
       "        1.84419480e+01,  8.12347922e+00,  2.46323252e+00,  8.32121763e-01,\n",
       "        5.96901866e-01,  5.27279587e-01,  3.63526814e-01,  4.94894620e+00,\n",
       "        6.48931571e+00, -2.87284378e-01,  3.09806169e+00,  9.08206930e+00,\n",
       "        8.42739766e+00,  1.51320666e-02,  5.62764148e+00,  4.71226914e+00,\n",
       "        5.04228911e+00,  8.92764446e+00,  8.67749960e+00,  3.24859126e-01])"
      ]
     },
     "execution_count": 36,
     "metadata": {},
     "output_type": "execute_result"
    }
   ],
   "source": [
    "#Prediction on training data\n",
    "train_y_pred=linear.predict(x_train)\n",
    "train_y_pred"
   ]
  },
  {
   "cell_type": "code",
   "execution_count": 37,
   "id": "58f02fd4",
   "metadata": {},
   "outputs": [],
   "source": [
    "#R squared error\n",
    "from sklearn.metrics import mean_squared_error,mean_absolute_error,r2_score\n",
    "mse=mean_squared_error(y_train,train_y_pred)\n",
    "mae=mean_absolute_error(y_train,train_y_pred)\n",
    "rmse=np.sqrt(mse)\n",
    "score=r2_score(y_train,train_y_pred)"
   ]
  },
  {
   "cell_type": "code",
   "execution_count": 32,
   "id": "3e0a0ac4",
   "metadata": {},
   "outputs": [
    {
     "name": "stdout",
     "output_type": "stream",
     "text": [
      "2.936037747028905\n",
      "1.2668186320545243\n",
      "1.7134870139656457\n",
      "0.8401415675614609\n"
     ]
    }
   ],
   "source": [
    "print(mse)\n",
    "print(mae)\n",
    "print(rmse)\n",
    "print(score)"
   ]
  },
  {
   "cell_type": "code",
   "execution_count": 38,
   "id": "07672df3",
   "metadata": {},
   "outputs": [
    {
     "data": {
      "image/png": "[encoded data removed]",
      "text/plain": [
       "<Figure size 432x288 with 1 Axes>"
      ]
     },
     "metadata": {
      "needs_background": "light"
     },
     "output_type": "display_data"
    }
   ],
   "source": [
    "plt.scatter(y_train,train_y_pred)\n",
    "plt.xlabel(\"Actual Price\")\n",
    "plt.ylabel(\"Predicted Price\")\n",
    "plt.title(\"Actual Price vs Predicted Price\")\n",
    "plt.show()\n"
   ]
  },
  {
   "cell_type": "code",
   "execution_count": 39,
   "id": "19f1295f",
   "metadata": {},
   "outputs": [
    {
     "data": {
      "text/plain": [
       "array([10.39504752,  0.71253748,  4.26321182,  4.8978613 ,  9.8444441 ,\n",
       "        4.22641014,  7.12195061,  7.37336045,  0.16006945,  5.16607316,\n",
       "        6.20516135,  6.1749451 ,  2.11975888,  7.7388833 ,  1.92424059,\n",
       "        1.71275545,  2.02658569,  1.85116583,  9.35048281,  4.25342246,\n",
       "        1.49005291,  9.14466616,  1.45685415,  9.6324409 ,  0.82185873,\n",
       "        8.07862002,  1.53585789, -3.19456462,  4.22247646,  2.09845315,\n",
       "        3.42742898,  3.72347069,  5.57834996,  7.75729869, -1.91136002,\n",
       "        6.81112662,  8.20645898,  5.80810908,  6.15499373,  6.27655972,\n",
       "       16.01951157,  2.07233819,  1.04810664, -0.45611059,  6.82058172,\n",
       "        6.78303989,  0.98586869,  6.83400287, 14.31641849,  3.01322766,\n",
       "        8.04430564, -0.8912848 ,  8.99055987,  1.14726528,  2.11692771,\n",
       "       -0.82809405,  0.68465873, 10.03034357, -0.4653801 , -2.42748337,\n",
       "       10.08278075])"
      ]
     },
     "execution_count": 39,
     "metadata": {},
     "output_type": "execute_result"
    }
   ],
   "source": [
    "#Prediction on test data\n",
    "test_y_pred=linear.predict(x_test)\n",
    "test_y_pred"
   ]
  },
  {
   "cell_type": "code",
   "execution_count": 40,
   "id": "869f3078",
   "metadata": {},
   "outputs": [],
   "source": [
    "#R squared error\n",
    "from sklearn.metrics import mean_squared_error,mean_absolute_error,r2_score\n",
    "mse=mean_squared_error(y_test,test_y_pred)\n",
    "mae=mean_absolute_error(y_test,test_y_pred)\n",
    "rmse=np.sqrt(mse)\n",
    "score=r2_score(y_test,test_y_pred)"
   ]
  },
  {
   "cell_type": "code",
   "execution_count": 41,
   "id": "4af342ae",
   "metadata": {},
   "outputs": [
    {
     "name": "stdout",
     "output_type": "stream",
     "text": [
      "2.936037747028905\n",
      "1.2668186320545243\n",
      "1.7134870139656457\n",
      "0.8401415675614609\n"
     ]
    }
   ],
   "source": [
    "print(mse)\n",
    "print(mae)\n",
    "print(rmse)\n",
    "print(score)"
   ]
  },
  {
   "cell_type": "code",
   "execution_count": 51,
   "id": "2bc7a939",
   "metadata": {},
   "outputs": [
    {
     "data": {
      "image/png": "[encoded data removed]",
      "text/plain": [
       "<Figure size 432x288 with 1 Axes>"
      ]
     },
     "metadata": {
      "needs_background": "light"
     },
     "output_type": "display_data"
    }
   ],
   "source": [
    "plt.scatter(y_test,test_y_pred,color='y')\n",
    "plt.xlabel(\"Actual Price\")\n",
    "plt.ylabel(\"Predicted Price\")\n",
    "plt.title(\"Actual Price vs Predicted Price\")\n",
    "plt.show()\n"
   ]
  },
  {
   "cell_type": "code",
   "execution_count": 44,
   "id": "6b9e91ac",
   "metadata": {},
   "outputs": [],
   "source": [
    "#Lasso Regression\n",
    "from sklearn.linear_model import Lasso\n",
    "lasso= Lasso()"
   ]
  },
  {
   "cell_type": "code",
   "execution_count": 46,
   "id": "5103adb0",
   "metadata": {},
   "outputs": [
    {
     "data": {
      "text/plain": [
       "array([ 9.65071446,  1.95183529,  4.2547977 ,  4.31272835,  7.510092  ,\n",
       "        4.1150831 ,  5.49530556,  5.75006839,  1.67479066,  4.76237143,\n",
       "        5.65111156,  4.96694641,  1.83307788,  7.04825761,  2.93388649,\n",
       "        2.27772404,  2.38555876,  2.24972511,  7.68666806,  4.02110783,\n",
       "        2.56269859,  7.7030241 ,  2.11860462,  7.18714002,  1.97279248,\n",
       "        6.43699854,  2.21950962,  0.9501631 ,  3.62829855,  2.82521957,\n",
       "        2.24584415,  3.48941614,  4.85856327,  7.04825761,  1.10340507,\n",
       "        5.77889951,  6.19554675,  4.8150405 ,  5.65111156,  5.6400171 ,\n",
       "       14.01041833,  2.38555876,  1.97972221,  1.62212159,  5.73537674,\n",
       "        5.69601871,  2.04957951,  5.77889951, 11.03234044,  3.17589047,\n",
       "        6.43699854,  1.44442956,  8.71485438,  2.08838913,  2.41660645,\n",
       "        1.5200523 ,  1.87964941,  9.63880316,  1.58331197,  0.88418676,\n",
       "        8.514145  ])"
      ]
     },
     "execution_count": 46,
     "metadata": {},
     "output_type": "execute_result"
    }
   ],
   "source": [
    "lasso.fit(x_train,y_train)\n",
    "y_pred=lasso.predict(x_test)\n",
    "y_pred"
   ]
  },
  {
   "cell_type": "code",
   "execution_count": 47,
   "id": "b1d5e636",
   "metadata": {},
   "outputs": [],
   "source": [
    "#R squared error\n",
    "from sklearn.metrics import mean_squared_error,mean_absolute_error,r2_score\n",
    "mse=mean_squared_error(y_test,y_pred)\n",
    "mae=mean_absolute_error(y_test,y_pred)\n",
    "rmse=np.sqrt(mse)\n",
    "score=r2_score(y_test,y_pred)"
   ]
  },
  {
   "cell_type": "code",
   "execution_count": 48,
   "id": "aefec7db",
   "metadata": {},
   "outputs": [
    {
     "name": "stdout",
     "output_type": "stream",
     "text": [
      "4.250746642667676\n",
      "1.5181247679248948\n",
      "2.0617338923022235\n",
      "0.7685596189361431\n"
     ]
    }
   ],
   "source": [
    "print(mse)\n",
    "print(mae)\n",
    "print(rmse)\n",
    "print(score)"
   ]
  },
  {
   "cell_type": "code",
   "execution_count": 50,
   "id": "57124037",
   "metadata": {},
   "outputs": [
    {
     "data": {
      "image/png": "[encoded data removed]",
      "text/plain": [
       "<Figure size 432x288 with 1 Axes>"
      ]
     },
     "metadata": {
      "needs_background": "light"
     },
     "output_type": "display_data"
    }
   ],
   "source": [
    "plt.scatter(y_test,y_pred,color='r')\n",
    "plt.xlabel(\"Actual Price\")\n",
    "plt.ylabel(\"Predicted Price\")\n",
    "plt.title(\"Actual Price vs Predicted Price\")\n",
    "plt.show()"
   ]
  },
  {
   "cell_type": "code",
   "execution_count": null,
   "id": "73c4c44a",
   "metadata": {},
   "outputs": [],
   "source": []
  }
 ],
 "metadata": {
  "kernelspec": {
   "display_name": "Python 3 (ipykernel)",
   "language": "python",
   "name": "python3"
  },
  "language_info": {
   "codemirror_mode": {
    "name": "ipython",
    "version": 3
   },
   "file_extension": ".py",
   "mimetype": "text/x-python",
   "name": "python",
   "nbconvert_exporter": "python",
   "pygments_lexer": "ipython3",
   "version": "3.10.2"
  }
 },
 "nbformat": 4,
 "nbformat_minor": 5
}
